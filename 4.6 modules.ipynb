{
 "cells": [
  {
   "cell_type": "markdown",
   "metadata": {
    "id": "NDrXKN-NHeYR"
   },
   "source": [
    "# Modules"
   ]
  },
  {
   "cell_type": "markdown",
   "metadata": {
    "id": "i0AVpPtvHeYU"
   },
   "source": [
    "Modules refer to a file containing Python statements and definitions.\n",
    "\n",
    "A file containing Python code, for e.g.: abc.py, is called a module and its module name would be \"abc\"."
   ]
  },
  {
   "cell_type": "markdown",
   "metadata": {
    "id": "Cncmoy9XHeYW"
   },
   "source": [
    "We use modules to break down large programs into small manageable and organized files. Furthermore, modules provide reusability of code.\n",
    "\n",
    "We can define our most used functions in a module and import it, instead of copying their definitions into different programs."
   ]
  },
  {
   "cell_type": "markdown",
   "metadata": {
    "id": "OMq5zEJZHeYY"
   },
   "source": [
    "# How to import a module?"
   ]
  },
  {
   "cell_type": "markdown",
   "metadata": {
    "id": "-BZo1veLHeYa"
   },
   "source": [
    "We use the import keyword to do this."
   ]
  },
  {
   "cell_type": "code",
   "execution_count": 1,
   "metadata": {
    "colab": {
     "base_uri": "https://localhost:8080/",
     "height": 296
    },
    "executionInfo": {
     "elapsed": 32,
     "status": "error",
     "timestamp": 1621947892989,
     "user": {
      "displayName": "Applied AI Course",
      "photoUrl": "https://lh3.googleusercontent.com/a-/AOh14GjjpR94Niu_srJxsFT_3bp9vDfqrjd2Zx94jDQdMg=s64",
      "userId": "06629147635963609455"
     },
     "user_tz": -330
    },
    "id": "LkdtsKI-HeYb",
    "outputId": "e7b4062a-20c1-45ea-a023-bf0da8df5d63"
   },
   "outputs": [],
   "source": [
    "import example #imported example module\n"
   ]
  },
  {
   "cell_type": "markdown",
   "metadata": {
    "id": "8QYfvfCiHeYh"
   },
   "source": [
    "Using the module name we can access the function using dot (.) operation."
   ]
  },
  {
   "cell_type": "code",
   "execution_count": 2,
   "metadata": {
    "id": "4aS7F29GHeYk",
    "outputId": "6283c968-e7a6-4450-de6a-94abff22feff"
   },
   "outputs": [
    {
     "data": {
      "text/plain": [
       "30"
      ]
     },
     "execution_count": 2,
     "metadata": {},
     "output_type": "execute_result"
    }
   ],
   "source": [
    "example.add(10, 20)\n"
   ]
  },
  {
   "cell_type": "markdown",
   "metadata": {
    "id": "UzrMkOH9HeYs"
   },
   "source": [
    "Python has a lot of standard modules available.\n",
    "\n",
    "https://docs.python.org/3/py-modindex.html "
   ]
  },
  {
   "cell_type": "markdown",
   "metadata": {
    "id": "k-zR_tU7HeYs"
   },
   "source": [
    "# Examples:"
   ]
  },
  {
   "cell_type": "code",
   "execution_count": null,
   "metadata": {
    "id": "dRUqBrXjHeYt",
    "outputId": "add83409-8085-4540-b91b-be5580a6a8c3"
   },
   "outputs": [
    {
     "name": "stdout",
     "output_type": "stream",
     "text": [
      "3.141592653589793\n"
     ]
    }
   ],
   "source": [
    "import math\n",
    "print(math.pi)\n"
   ]
  },
  {
   "cell_type": "code",
   "execution_count": null,
   "metadata": {
    "id": "wr-Jyr-cHeY1",
    "outputId": "438ed43d-8c18-4da3-e929-1c4c1676ba5c"
   },
   "outputs": [
    {
     "data": {
      "text/plain": [
       "datetime.datetime(2017, 10, 18, 20, 47, 20, 606228)"
      ]
     },
     "execution_count": 6,
     "metadata": {
      "tags": []
     },
     "output_type": "execute_result"
    }
   ],
   "source": [
    "import datetime\n",
    "datetime.datetime.now()\n"
   ]
  },
  {
   "cell_type": "markdown",
   "metadata": {
    "id": "34mCV3oJHeY4"
   },
   "source": [
    "# import with renaming"
   ]
  },
  {
   "cell_type": "code",
   "execution_count": null,
   "metadata": {
    "id": "BljTPvmRHeY5",
    "outputId": "c1213478-fa22-4cc8-cc8a-d6073e5afb1d"
   },
   "outputs": [
    {
     "name": "stdout",
     "output_type": "stream",
     "text": [
      "3.141592653589793\n"
     ]
    }
   ],
   "source": [
    "import math as m\n",
    "print(m.pi)\n"
   ]
  },
  {
   "cell_type": "markdown",
   "metadata": {
    "id": "Yck3dGWaHeY-"
   },
   "source": [
    "# from...import statement"
   ]
  },
  {
   "cell_type": "markdown",
   "metadata": {
    "id": "PgxZkgecHeY_"
   },
   "source": [
    "We can import specific names form a module without importing the module as a whole."
   ]
  },
  {
   "cell_type": "code",
   "execution_count": null,
   "metadata": {
    "id": "SAgwJxMuHeZA",
    "outputId": "1c5c83bd-525f-483d-95dd-5813d922912b"
   },
   "outputs": [
    {
     "data": {
      "text/plain": [
       "datetime.datetime(2017, 10, 18, 20, 47, 38, 17242)"
      ]
     },
     "execution_count": 9,
     "metadata": {
      "tags": []
     },
     "output_type": "execute_result"
    }
   ],
   "source": [
    "from datetime import datetime \n",
    "datetime.now()\n"
   ]
  },
  {
   "cell_type": "markdown",
   "metadata": {
    "id": "3FKKbMKCHeZL"
   },
   "source": [
    "# import all names"
   ]
  },
  {
   "cell_type": "code",
   "execution_count": null,
   "metadata": {
    "id": "OvEe2dxZHeZM",
    "outputId": "42a14832-f267-4af1-b712-79c1d099a760"
   },
   "outputs": [
    {
     "name": "stdout",
     "output_type": "stream",
     "text": [
      "Value of PI is 3.141592653589793\n"
     ]
    }
   ],
   "source": [
    "from math import *\n",
    "print(\"Value of PI is \" + str(pi))\n"
   ]
  },
  {
   "cell_type": "markdown",
   "metadata": {
    "id": "dPVCLPyQHeZR"
   },
   "source": [
    "# dir() built in function"
   ]
  },
  {
   "cell_type": "markdown",
   "metadata": {
    "id": "EPRn9wTiHeZT"
   },
   "source": [
    "We can use the dir() function to find out names that are defined inside a module."
   ]
  },
  {
   "cell_type": "code",
   "execution_count": 4,
   "metadata": {
    "id": "T9PeK-KxHeZX",
    "outputId": "ecdf1d42-e747-4e27-9a5a-5811ea885c97"
   },
   "outputs": [
    {
     "data": {
      "text/plain": [
       "['__builtins__',\n",
       " '__cached__',\n",
       " '__doc__',\n",
       " '__file__',\n",
       " '__loader__',\n",
       " '__name__',\n",
       " '__package__',\n",
       " '__spec__',\n",
       " 'add']"
      ]
     },
     "execution_count": 4,
     "metadata": {},
     "output_type": "execute_result"
    }
   ],
   "source": [
    "dir(example)\n"
   ]
  },
  {
   "cell_type": "code",
   "execution_count": 5,
   "metadata": {
    "id": "1vvA0aSwHeZb",
    "outputId": "61b9e1ff-5334-4103-8a62-b4e40ae61002"
   },
   "outputs": [
    {
     "name": "stdout",
     "output_type": "stream",
     "text": [
      "\n",
      "    This program adds two numbers and return the result\n",
      "    \n"
     ]
    }
   ],
   "source": [
    "print(example.add.__doc__)\n"
   ]
  },
  {
   "cell_type": "code",
   "execution_count": 7,
   "metadata": {},
   "outputs": [
    {
     "name": "stdout",
     "output_type": "stream",
     "text": [
      "str(object='') -> str\n",
      "str(bytes_or_buffer[, encoding[, errors]]) -> str\n",
      "\n",
      "Create a new string object from the given object. If encoding or\n",
      "errors is specified, then the object must expose a data buffer\n",
      "that will be decoded using the given encoding and error handler.\n",
      "Otherwise, returns the result of object.__str__() (if defined)\n",
      "or repr(object).\n",
      "encoding defaults to sys.getdefaultencoding().\n",
      "errors defaults to 'strict'.\n"
     ]
    }
   ],
   "source": [
    "print(example.__name__.__doc__)\n"
   ]
  },
  {
   "cell_type": "code",
   "execution_count": null,
   "metadata": {},
   "outputs": [],
   "source": []
  }
 ],
 "metadata": {
  "colab": {
   "name": "6_modules.ipynb",
   "provenance": []
  },
  "kernelspec": {
   "display_name": "Python 3",
   "language": "python",
   "name": "python3"
  },
  "language_info": {
   "codemirror_mode": {
    "name": "ipython",
    "version": 3
   },
   "file_extension": ".py",
   "mimetype": "text/x-python",
   "name": "python",
   "nbconvert_exporter": "python",
   "pygments_lexer": "ipython3",
   "version": "3.6.5"
  }
 },
 "nbformat": 4,
 "nbformat_minor": 1
}
